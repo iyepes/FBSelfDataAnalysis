{
 "cells": [
  {
   "cell_type": "markdown",
   "metadata": {},
   "source": [
    "# Libraries"
   ]
  },
  {
   "cell_type": "code",
   "execution_count": 1,
   "metadata": {},
   "outputs": [],
   "source": [
    "# Import map library\n",
    "import gmplot\n",
    "# Import self made functions\n",
    "import selfcredentials\n",
    "import funciones"
   ]
  },
  {
   "cell_type": "code",
   "execution_count": 2,
   "metadata": {},
   "outputs": [],
   "source": [
    "# Import libraries to process data\n",
    "import json\n",
    "from datetime import datetime\n",
    "import pandas as pd"
   ]
  },
  {
   "cell_type": "markdown",
   "metadata": {},
   "source": [
    "# Load data from fb loc history"
   ]
  },
  {
   "cell_type": "code",
   "execution_count": 3,
   "metadata": {},
   "outputs": [],
   "source": [
    "# Load data from facebook location\n",
    "with open('location/location_history.json') as f:\n",
    "  data = json.load(f)"
   ]
  },
  {
   "cell_type": "markdown",
   "metadata": {},
   "source": [
    "# Prepare data"
   ]
  },
  {
   "cell_type": "code",
   "execution_count": 4,
   "metadata": {},
   "outputs": [],
   "source": [
    "location_list = data['location_history']\n",
    "# Put location history in a dataframe\n",
    "df = pd.DataFrame(location_list)\n",
    "# Correct Spanish accents\n",
    "df['name'] = df['name'].apply(funciones.accent_replace)\n",
    "# Remove data I don't what to share\n",
    "indexNames = df[(df['name'] == 'Medellín')].index\n",
    "# Delete selected rows\n",
    "df.drop(indexNames , inplace=True)"
   ]
  },
  {
   "cell_type": "code",
   "execution_count": 5,
   "metadata": {},
   "outputs": [],
   "source": [
    "#Prepare data for display\n",
    "#Create data arrays\n",
    "latitudes = []\n",
    "longitudes = []\n",
    "fechas = []\n",
    "colores = []\n",
    "# Extract location\n",
    "for coord in df['coordinate']:\n",
    "    latitudes.append(coord['latitude'])\n",
    "    longitudes.append(coord['longitude'])\n",
    "# Extract time\n",
    "for timestamp in df['creation_timestamp']:\n",
    "    fecha = str(datetime.fromtimestamp(timestamp))\n",
    "    fechas.append(fecha)\n",
    "    if \"2018-09-23\" in fecha:\n",
    "        colores.append('purple')\n",
    "    elif \"2018-09-22\" in fecha:\n",
    "        colores.append('yellow')\n",
    "    else:\n",
    "        colores.append('blue')"
   ]
  },
  {
   "cell_type": "markdown",
   "metadata": {},
   "source": [
    "# Create the map"
   ]
  },
  {
   "cell_type": "code",
   "execution_count": 7,
   "metadata": {},
   "outputs": [],
   "source": [
    "#Plot the map\n",
    "apikey = selfcredentials.gmapskey()\n",
    "# Center Map\n",
    "gmap = gmplot.GoogleMapPlotter(4.63199, -74.06221, 15, apikey=apikey)\n",
    "# Load data\n",
    "gmap.scatter(latitudes[:], longitudes[:], label=fechas[:] , color=colores[:], size = 10)\n",
    "# Create map file\n",
    "gmap.draw('selfmaps/gmplot-colores.html')"
   ]
  },
  {
   "cell_type": "code",
   "execution_count": null,
   "metadata": {},
   "outputs": [],
   "source": []
  }
 ],
 "metadata": {
  "kernelspec": {
   "display_name": "Python 3",
   "language": "python",
   "name": "python3"
  },
  "language_info": {
   "codemirror_mode": {
    "name": "ipython",
    "version": 3
   },
   "file_extension": ".py",
   "mimetype": "text/x-python",
   "name": "python",
   "nbconvert_exporter": "python",
   "pygments_lexer": "ipython3",
   "version": "3.7.0"
  }
 },
 "nbformat": 4,
 "nbformat_minor": 2
}
